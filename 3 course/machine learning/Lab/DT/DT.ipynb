{
 "cells": [
  {
   "cell_type": "markdown",
   "source": [
    "#### IMPORTS"
   ],
   "metadata": {
    "collapsed": false
   }
  },
  {
   "cell_type": "code",
   "execution_count": 283,
   "outputs": [],
   "source": [
    "import pandas as pd\n",
    "import numpy as np\n",
    "import itertools as it\n",
    "import matplotlib.pyplot as plt\n",
    "from random import randint\n",
    "from collections import defaultdict\n",
    "from math import exp, log\n",
    "from sklearn.metrics import accuracy_score\n",
    "import matplotlib.pyplot as mtp\n"
   ],
   "metadata": {
    "collapsed": false,
    "pycharm": {
     "name": "#%%\n"
    }
   }
  },
  {
   "cell_type": "markdown",
   "source": [
    "#### PARAMS"
   ],
   "metadata": {
    "collapsed": false
   }
  },
  {
   "cell_type": "code",
   "execution_count": 284,
   "outputs": [],
   "source": [
    "FILES = [\"chips\", \"geyser\"]\n",
    "INF = float('inf')\n",
    "EPS = 1e-30"
   ],
   "metadata": {
    "collapsed": false,
    "pycharm": {
     "name": "#%%\n"
    }
   }
  },
  {
   "cell_type": "markdown",
   "source": [
    "#### FOREST"
   ],
   "metadata": {
    "collapsed": false
   }
  },
  {
   "cell_type": "code",
   "execution_count": 285,
   "outputs": [],
   "source": [
    "class ForestClassifier:\n",
    "    def __init__(self, forest_size=10, max_depth=INF, min_size=5):\n",
    "        self.forest_size = forest_size\n",
    "        self.max_depth = max_depth\n",
    "        self.min_size = min_size\n",
    "\n",
    "    def bootstrap(self, X):\n",
    "        n = len(X)\n",
    "        data = []\n",
    "        for i in range(self.forest_size):\n",
    "            current = []\n",
    "            for j in range(n):\n",
    "                current.append(X[randint(0, n - 1)])\n",
    "            data.append(current)\n",
    "        return np.array(data)\n",
    "\n",
    "    def fit(self, data):\n",
    "        return [self.build_tree(train) for train in self.bootstrap(data)]\n",
    "\n",
    "    def build_tree(self, train):\n",
    "        root = get_split(train)\n",
    "        self.split(root, 1)\n",
    "        return root\n",
    "\n",
    "    def split(self, node, depth):\n",
    "        left, right = node['groups']\n",
    "        del (node['groups'])\n",
    "        if left.size == 0 or right.size == 0:\n",
    "            node['left'] = node['right'] = most_common(np.concatenate((left, right)))\n",
    "            return\n",
    "        if depth >= self.max_depth:\n",
    "            node['left'], node['right'] = most_common(left), most_common(right)\n",
    "            return\n",
    "        if len(left) <= self.min_size:\n",
    "            node['left'] = most_common(left)\n",
    "        else:\n",
    "            node['left'] = get_split(left)\n",
    "            self.split(node['left'], depth + 1)\n",
    "\n",
    "        if len(right) <= self.min_size:\n",
    "            node['right'] = most_common(right)\n",
    "        else:\n",
    "            node['right'] = get_split(right)\n",
    "            self.split(node['right'], depth + 1)\n",
    "\n",
    "    def predict(self, node, row):\n",
    "        side = 'left' if row[node['index']] < node['value'] else 'right'\n",
    "        return self.predict(node[side], row) if isinstance(node[side], dict) else node[side]\n",
    "\n",
    "    def test(self, forest, test, draw=False):\n",
    "        correctly_predicted = 0\n",
    "        predictions = []\n",
    "        for row in test:\n",
    "            predicted_count = defaultdict(lambda: 0)\n",
    "            for tree in forest:\n",
    "                predicted_count[self.predict(tree, row)] += 1\n",
    "            cls = max(predicted_count, key=predicted_count.get)\n",
    "            correctly_predicted += 1 if cls == row[-2] else 0\n",
    "            predictions.append(cls)\n",
    "        score, predicted = correctly_predicted / len(test), np.array(predictions)\n",
    "        if draw:\n",
    "            self.draw(forest, test)\n",
    "        return score, predicted\n",
    "\n",
    "    def draw(self, forest, X):\n",
    "        y = X[:, -2]\n",
    "        bg_x = np.array([(*x, None) for x in it.product(np.linspace(min(X[:, 0]), max(X[:, 0]), 75),\n",
    "                                                        np.linspace(min(X[:, 1]), max(X[:, 1]), 75))])\n",
    "        _, bg_y = self.test(forest, bg_x)\n",
    "        plt.scatter(X[y == 1][:, 0], X[y == 1][:, 1], marker='+', color='green')\n",
    "        plt.scatter(X[y == -1][:, 0], X[y == -1][:, 1], marker='_', color='red')\n",
    "        plt.scatter(bg_x[bg_y == 1][:, 0], bg_x[bg_y == 1][:, 1], marker='.', color='green', alpha=0.2)\n",
    "        plt.scatter(bg_x[bg_y == -1][:, 0], bg_x[bg_y == -1][:, 1], marker='.', color='red', alpha=0.2)\n",
    "        plt.show()"
   ],
   "metadata": {
    "collapsed": false,
    "pycharm": {
     "name": "#%%\n"
    }
   }
  },
  {
   "cell_type": "markdown",
   "source": [
    "#### AdaBoost"
   ],
   "metadata": {
    "collapsed": false
   }
  },
  {
   "cell_type": "code",
   "execution_count": 286,
   "outputs": [],
   "source": [
    "class AdaBoost:\n",
    "    def __init__(self):\n",
    "        self.model = ForestClassifier(max_depth=3)\n",
    "\n",
    "    def fit(self, data, t):\n",
    "        def calc_error(tree, tt):\n",
    "            return np.sum(\n",
    "                [D[index][tt] * (self.model.predict(tree, data[index]) != data[index][-2]) for index in range(size)])\n",
    "\n",
    "        def get_min_arg(_forest, tt):\n",
    "            best_arg = _forest[0]\n",
    "            best_error = calc_error(best_arg, 0)\n",
    "            for tree in _forest:\n",
    "                e = calc_error(tree, tt)\n",
    "                if e < best_error:\n",
    "                    best_arg = tree\n",
    "                    best_error = e\n",
    "            return best_arg\n",
    "\n",
    "        h, a = [], []\n",
    "        forest = self.model.fit(data)\n",
    "        size = len(data)\n",
    "        D = [[1 / size] for _ in range(size)]\n",
    "\n",
    "        for ti in range(t):\n",
    "            h.append(get_min_arg(forest, ti))\n",
    "            error = calc_error(h[ti], ti)\n",
    "            if error < EPS:\n",
    "                return h, a\n",
    "            a.append(0.5 * log((1 - error) / error))\n",
    "            for i in range(size):\n",
    "                D[i].append(D[i][ti] * exp(-a[ti] * data[i][-2] * self.model.predict(h[ti], data[i])))\n",
    "            z = np.sum([D[i][ti + 1] for i in range(size)])\n",
    "            for i in range(size):\n",
    "                D[i][ti + 1] /= z\n",
    "        return h, a\n",
    "\n",
    "    def predict(self, h, a, row):\n",
    "        return np.sign(np.sum([a[t] * self.model.predict(h[t], row) for t in range(len(a))]))\n",
    "\n",
    "    def test(self, test, h, a):\n",
    "        return accuracy_score(test[:, -2], [self.predict(h, a, row) for row in test])\n"
   ],
   "metadata": {
    "collapsed": false,
    "pycharm": {
     "name": "#%%\n"
    }
   }
  },
  {
   "cell_type": "markdown",
   "source": [
    "#### HELPERS"
   ],
   "metadata": {
    "collapsed": false
   }
  },
  {
   "cell_type": "code",
   "execution_count": 287,
   "outputs": [],
   "source": [
    "def most_common(group):\n",
    "    sums = defaultdict(lambda: 0)\n",
    "    count = defaultdict(lambda: 0)\n",
    "    for row in group:\n",
    "        count[row[-2]] += 1\n",
    "        sums[row[-2]] += row[-1]\n",
    "    return max(sums, key=lambda el: sums[el] / count[el])\n",
    "\n",
    "\n",
    "def gini_index(groups):\n",
    "    n_instances = sum([sum(group[:, -1]) for group in groups])\n",
    "    gini = 0\n",
    "    for group in groups:\n",
    "        size = len(group)\n",
    "        if size == 0:\n",
    "            continue\n",
    "        score = 0\n",
    "        s = np.sum(group[:, -1])\n",
    "        for c in {0, 1}:\n",
    "            p = np.sum([row[-1] if row[-2] == c else 0 for row in group]) / s\n",
    "            score += p * p\n",
    "        gini += (1.0 - score) * (s / n_instances)\n",
    "    return gini\n",
    "\n",
    "\n",
    "def get_split(data):\n",
    "    b_index, b_value, b_score, b_groups = INF, INF, INF, None\n",
    "    for index in range(len(data[0]) - 2):\n",
    "        for row in data:\n",
    "            groups = data[data[:, index] < row[index]], data[data[:, index] >= row[index]]\n",
    "            gini = gini_index(groups)\n",
    "            if gini < b_score:\n",
    "                b_index, b_value, b_score, b_groups = index, row[index], gini, groups\n",
    "    return {'index': b_index, 'value': b_value, 'groups': b_groups}\n",
    "\n",
    "\n",
    "def split_data_on_train_and_test(data):\n",
    "    return data[:2 * len(data) // 3], data[2 * len(data) // 3:]\n",
    "\n",
    "\n",
    "def get_data_with_weights(data, weights=None):\n",
    "    ww = np.ones((len(data), 1)) if weights is None else list(map(lambda w: [w], weights))\n",
    "    return np.append(data, ww, axis=1)"
   ],
   "metadata": {
    "collapsed": false,
    "pycharm": {
     "name": "#%%\n"
    }
   }
  },
  {
   "cell_type": "markdown",
   "source": [
    "#### MAIN"
   ],
   "metadata": {
    "collapsed": false
   }
  },
  {
   "cell_type": "code",
   "execution_count": 288,
   "outputs": [
    {
     "data": {
      "text/plain": "<Figure size 432x288 with 1 Axes>",
      "image/png": "[encoded data removed]"
     },
     "metadata": {
      "needs_background": "light"
     },
     "output_type": "display_data"
    },
    {
     "name": "stdout",
     "output_type": "stream",
     "text": [
      "Forest score for chips: 0.6000000000%\n",
      "Ada Boost score for chips: 0.6250000000%, t = 1\n",
      "Ada Boost score for chips: 0.6250000000%, t = 2\n",
      "Ada Boost score for chips: 0.6000000000%, t = 3\n",
      "Ada Boost score for chips: 0.6000000000%, t = 5\n",
      "Ada Boost score for chips: 0.5750000000%, t = 8\n",
      "Ada Boost score for chips: 0.5750000000%, t = 13\n",
      "Ada Boost score for chips: 0.5500000000%, t = 21\n",
      "Ada Boost score for chips: 0.6000000000%, t = 34\n",
      "Ada Boost score for chips: 0.6750000000%, t = 55\n"
     ]
    },
    {
     "data": {
      "text/plain": "<Figure size 432x288 with 1 Axes>",
      "image/png": "[encoded data removed]"
     },
     "metadata": {
      "needs_background": "light"
     },
     "output_type": "display_data"
    },
    {
     "data": {
      "text/plain": "<Figure size 432x288 with 1 Axes>",
      "image/png": "[encoded data removed]"
     },
     "metadata": {
      "needs_background": "light"
     },
     "output_type": "display_data"
    },
    {
     "name": "stdout",
     "output_type": "stream",
     "text": [
      "Forest score for geyser: 0.8783783784%\n",
      "Ada Boost score for geyser: 0.9054054054%, t = 1\n",
      "Ada Boost score for geyser: 0.9054054054%, t = 2\n",
      "Ada Boost score for geyser: 0.8513513514%, t = 3\n",
      "Ada Boost score for geyser: 0.9054054054%, t = 5\n",
      "Ada Boost score for geyser: 0.9189189189%, t = 8\n",
      "Ada Boost score for geyser: 0.8648648649%, t = 13\n",
      "Ada Boost score for geyser: 0.8378378378%, t = 21\n",
      "Ada Boost score for geyser: 0.9054054054%, t = 34\n",
      "Ada Boost score for geyser: 0.9054054054%, t = 55\n"
     ]
    },
    {
     "data": {
      "text/plain": "<Figure size 432x288 with 1 Axes>",
      "image/png": "[encoded data removed]"
     },
     "metadata": {
      "needs_background": "light"
     },
     "output_type": "display_data"
    }
   ],
   "source": [
    "def main():\n",
    "    model_forest = ForestClassifier()\n",
    "    model_adaboost = AdaBoost()\n",
    "    for file in FILES:\n",
    "        dataset = pd.read_csv('data/%s.csv' % file).sample(frac=1)\n",
    "        dataset['class'] = dataset['class'].apply(lambda y: 1 if y == 'P' else -1)\n",
    "        data = get_data_with_weights(dataset.values)\n",
    "        data_train, data_test = split_data_on_train_and_test(data)\n",
    "        forest = model_forest.fit(data_train)\n",
    "        score, _ = model_forest.test(forest, data_test, draw=True)\n",
    "        print('Forest score for %s: %.10f%%' % (file, score))\n",
    "\n",
    "        ts, scores = [1, 2, 3, 5, 8, 13, 21, 34, 55], []\n",
    "        for t in ts:\n",
    "            h, a = model_adaboost.fit(data_train, t)\n",
    "            scores.append(model_adaboost.test(data_test, h, a))\n",
    "            print('Ada Boost score for %s: %.10f%%, t = %d' % (file, scores[-1], t))\n",
    "        mtp.plot(ts, scores, label=\"AdaBoost score\")\n",
    "        mtp.xlabel(\"t\")\n",
    "        mtp.ylabel(\"score\")\n",
    "        mtp.legend()\n",
    "        mtp.show()\n",
    "\n",
    "\n",
    "if __name__ == '__main__':\n",
    "    main()"
   ],
   "metadata": {
    "collapsed": false,
    "pycharm": {
     "name": "#%%\n"
    }
   }
  }
 ],
 "metadata": {
  "kernelspec": {
   "display_name": "Python 3",
   "language": "python",
   "name": "python3"
  },
  "language_info": {
   "codemirror_mode": {
    "name": "ipython",
    "version": 2
   },
   "file_extension": ".py",
   "mimetype": "text/x-python",
   "name": "python",
   "nbconvert_exporter": "python",
   "pygments_lexer": "ipython2",
   "version": "2.7.6"
  }
 },
 "nbformat": 4,
 "nbformat_minor": 0
}