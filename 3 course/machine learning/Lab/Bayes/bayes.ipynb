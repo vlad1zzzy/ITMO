{
 "cells": [
  {
   "cell_type": "markdown",
   "source": [
    "#### IMPORTS"
   ],
   "metadata": {
    "collapsed": false
   }
  },
  {
   "cell_type": "code",
   "execution_count": 485,
   "outputs": [],
   "source": [
    "import os\n",
    "from collections import defaultdict\n",
    "from sklearn.metrics import accuracy_score\n",
    "from matplotlib import pyplot as plt\n",
    "from math import log, log10\n",
    "import numpy as np\n",
    "from sklearn.model_selection import KFold\n",
    "from sklearn.metrics import roc_curve, roc_auc_score"
   ],
   "metadata": {
    "collapsed": false,
    "pycharm": {
     "name": "#%%\n"
    }
   }
  },
  {
   "cell_type": "markdown",
   "source": [
    "#### PARAMETER"
   ],
   "metadata": {
    "collapsed": false
   }
  },
  {
   "cell_type": "code",
   "execution_count": 486,
   "outputs": [],
   "source": [
    "LEGIT = \"LEGIT\"\n",
    "SPAM = \"SPAM\"\n",
    "NUMBER_OF_PARTS = 10\n",
    "ALPHAS = [10 ** i for i in range(-16, -6)]\n",
    "LAMBDAS = [10 ** i for i in range(0, 301, 20)]\n",
    "KF = KFold(NUMBER_OF_PARTS)"
   ],
   "metadata": {
    "collapsed": false,
    "pycharm": {
     "name": "#%%\n"
    }
   }
  },
  {
   "cell_type": "markdown",
   "source": [
    "#### UTIL"
   ],
   "metadata": {
    "collapsed": false
   }
  },
  {
   "cell_type": "code",
   "execution_count": 487,
   "outputs": [],
   "source": [
    "def get_class(filename) -> str:\n",
    "    return LEGIT if \"legit\" in filename else SPAM\n",
    "\n",
    "\n",
    "def read_file(filename: str, n: int = 1) -> (str, list, str):\n",
    "    with open(filename, \"r\") as file:\n",
    "        subject = transform_to_n_gram(file.readline().split()[1:], n)\n",
    "        file.readline()\n",
    "        body = transform_to_n_gram(file.readline().split(), n)\n",
    "        return subject, body, get_class(filename=filename)\n",
    "\n",
    "\n",
    "def read_part(n: int, i: int):\n",
    "    package_name = \"data/part%s\" % (i + 1)\n",
    "    files = []\n",
    "\n",
    "    for path in [\"%s/%s\" % (package_name, file_name) for file_name in os.listdir(package_name)]:\n",
    "        subject, body, c = read_file(path, n)\n",
    "        files.append((subject, c))\n",
    "        files.append((body, c))\n",
    "\n",
    "    return files\n",
    "\n",
    "\n",
    "def transform_to_n_gram(message, n):\n",
    "    n_gram = []\n",
    "    for i in range(len(message) - n + 1):\n",
    "        n_gram.append(message[i:(i + n)])\n",
    "    return n_gram\n",
    "\n",
    "\n",
    "def sentence_to_word(sentence):\n",
    "    return \"!\".join(sentence)\n"
   ],
   "metadata": {
    "collapsed": false,
    "pycharm": {
     "name": "#%%\n"
    }
   }
  },
  {
   "cell_type": "markdown",
   "source": [
    "#### BAYES"
   ],
   "metadata": {
    "collapsed": false
   }
  },
  {
   "cell_type": "code",
   "execution_count": 488,
   "outputs": [],
   "source": [
    "class Bayes(object):\n",
    "    def __init__(self, train_data):\n",
    "        self.classes_count = defaultdict(lambda: 0)\n",
    "        self.frequencies = defaultdict(lambda: 0)\n",
    "        self.files_count = len(train_data)\n",
    "        for (message, message_type) in train_data:\n",
    "            self.classes_count[message_type] += 1\n",
    "\n",
    "            for sentence in message:\n",
    "                self.frequencies[message_type, sentence_to_word(sentence)] += 1\n",
    "        for message_type, sentence in self.frequencies:\n",
    "            self.frequencies[message_type, sentence] /= self.classes_count[message_type]\n",
    "\n",
    "    def predict(self, message_body: [int], lambda_legit, lambda_spam, alpha):\n",
    "        p_legit = self.get_probability(LEGIT, message_body, alpha, lambda_legit)\n",
    "        p_spam = self.get_probability(SPAM, message_body, alpha, lambda_spam)\n",
    "        return LEGIT if p_legit > p_spam else SPAM, p_legit, p_spam\n",
    "\n",
    "    def get_probability(self, message_type: str, message_body: [int], alpha: float, lmb: float):\n",
    "        p = log(lmb * self.classes_count[message_type] / self.files_count)\n",
    "        return p + sum([log((self.frequencies[message_type, sentence_to_word(sentence)] + alpha) /\n",
    "                            (self.classes_count[message_type] + 2 * alpha))\n",
    "                        for sentence in message_body])\n"
   ],
   "metadata": {
    "collapsed": false,
    "pycharm": {
     "name": "#%%\n"
    }
   }
  },
  {
   "cell_type": "markdown",
   "source": [
    "#### BEST PARAMS"
   ],
   "metadata": {
    "collapsed": false
   }
  },
  {
   "cell_type": "code",
   "execution_count": 489,
   "outputs": [],
   "source": [
    "def get_k_fold_data(data, train_index, test_index):\n",
    "    def get_data(index):\n",
    "        return data[index].reshape(-1, data[index].shape[-1])\n",
    "\n",
    "    return get_data(train_index), get_data(test_index)\n",
    "\n",
    "\n",
    "def find_best_alpha(data):\n",
    "    best_alpha = -1\n",
    "    best_accuracy = 0\n",
    "    print(\"Searching alpha...\")\n",
    "    for alpha in ALPHAS:\n",
    "        accuracy = 0\n",
    "        for (train_index, test_index) in KF.split(data):\n",
    "            train_data, test_data = get_k_fold_data(data, train_index, test_index)\n",
    "            model = Bayes(train_data)\n",
    "            actual = [message_type for (message_body, message_type) in test_data]\n",
    "            predictions = [model.predict(message_body=message_body,\n",
    "                                         lambda_legit=1e-5,\n",
    "                                         lambda_spam=1e-5,\n",
    "                                         alpha=alpha)[0] for (message_body, message_type) in test_data]\n",
    "            accuracy += accuracy_score(predictions, actual) / NUMBER_OF_PARTS\n",
    "        print(\"Alpha = {}, accuracy = {}\".format(alpha, accuracy))\n",
    "        if accuracy > best_accuracy:\n",
    "            best_accuracy = accuracy\n",
    "            best_alpha = alpha\n",
    "    return best_alpha, best_accuracy\n",
    "\n",
    "\n",
    "def find_best_lambda(data, alpha):\n",
    "    best_lambda = 1\n",
    "    lambda_degrees = []\n",
    "    accuracy_scores = []\n",
    "    print(\"Searching lambda...\")\n",
    "    for lambda_legit in LAMBDAS:\n",
    "        accuracy = 0\n",
    "        fn_count = 0\n",
    "        all_predictions = []\n",
    "        all_actual = []\n",
    "        for (train_index, test_index) in KF.split(data):\n",
    "            train_data, test_data = get_k_fold_data(data, train_index, test_index)\n",
    "            model = Bayes(train_data)\n",
    "            actual = [message_type for (message_body, message_type) in test_data]\n",
    "            predictions = [model.predict(message_body=message_body,\n",
    "                                         lambda_legit=lambda_legit,\n",
    "                                         lambda_spam=1e-5,\n",
    "                                         alpha=alpha)[0] for (message_body, message_type) in test_data]\n",
    "            accuracy += accuracy_score(predictions, actual) / NUMBER_OF_PARTS\n",
    "            all_predictions.extend(predictions)\n",
    "            all_actual.extend(actual)\n",
    "\n",
    "        for x, y in zip(all_predictions, all_actual):\n",
    "            if x == SPAM and y == LEGIT:\n",
    "                fn_count += 1\n",
    "\n",
    "        if fn_count == 0:\n",
    "            best_lambda = lambda_legit\n",
    "\n",
    "        degree = int(log10(lambda_legit))\n",
    "        lambda_degrees.append(degree)\n",
    "        accuracy_scores.append(accuracy)\n",
    "\n",
    "        print(\"FN count = {}, Lambda 1e{}, accuracy:= {}\".format(fn_count, degree, accuracy))\n",
    "\n",
    "    return best_lambda, lambda_degrees, accuracy_scores\n"
   ],
   "metadata": {
    "collapsed": false,
    "pycharm": {
     "name": "#%%\n"
    }
   }
  },
  {
   "cell_type": "markdown",
   "source": [
    "#### PLOTS"
   ],
   "metadata": {
    "collapsed": false
   }
  },
  {
   "cell_type": "code",
   "execution_count": 490,
   "outputs": [],
   "source": [
    "def draw(xs, ys, label, x_label, y_label):\n",
    "    plt.plot(xs, ys, label=label)\n",
    "    plt.xlabel(x_label)\n",
    "    plt.ylabel(y_label)\n",
    "    plt.legend()\n",
    "    plt.show()\n",
    "\n",
    "\n",
    "def plot_roc_curve(data, best_alpha, best_lambda):\n",
    "    mapper = {LEGIT: 1, SPAM: 0}\n",
    "    model = Bayes(data)\n",
    "    roc_data = np.array([(mapper[message_type],\n",
    "                          mapper[model.predict(message_body=message_body,\n",
    "                                               lambda_legit=best_lambda,\n",
    "                                               lambda_spam=1,\n",
    "                                               alpha=best_alpha)[0]]\n",
    "                          ) for (message_body, message_type) in data])\n",
    "\n",
    "    x, y = roc_data[:, 0], roc_data[:, 1]\n",
    "    roc_xs, roc_ys, _ = roc_curve(x, y)\n",
    "    draw(xs=roc_xs, ys=roc_ys, label='ROC curve = {}'.format(roc_auc_score(x, y)), x_label='FP rate', y_label='TP rate')\n"
   ],
   "metadata": {
    "collapsed": false,
    "pycharm": {
     "name": "#%%\n"
    }
   }
  },
  {
   "cell_type": "markdown",
   "source": [
    "#### MAIN"
   ],
   "metadata": {
    "collapsed": false
   }
  },
  {
   "cell_type": "code",
   "execution_count": 491,
   "outputs": [
    {
     "name": "stdout",
     "output_type": "stream",
     "text": [
      "Searching alpha...\n",
      "Alpha = 1e-16, accuracy = 0.939908256880734\n",
      "Alpha = 1e-15, accuracy = 0.9399082568807341\n",
      "Alpha = 1e-14, accuracy = 0.9399082568807341\n",
      "Alpha = 1e-13, accuracy = 0.9385321100917432\n",
      "Alpha = 1e-12, accuracy = 0.9385321100917432\n",
      "Alpha = 1e-11, accuracy = 0.9348623853211009\n",
      "Alpha = 1e-10, accuracy = 0.9325688073394496\n",
      "Alpha = 1e-09, accuracy = 0.9311926605504588\n",
      "Alpha = 1e-08, accuracy = 0.9247706422018348\n",
      "Alpha = 1e-07, accuracy = 0.9206422018348623\n",
      "Best alpha = 1e-15, accuracy = 0.9399082568807341, n = 1\n",
      "Searching lambda...\n",
      "FN count = 24, Lambda 1e0, accuracy:= 0.8830275229357798\n",
      "FN count = 13, Lambda 1e20, accuracy:= 0.7788990825688074\n",
      "FN count = 10, Lambda 1e40, accuracy:= 0.7559633027522936\n",
      "FN count = 7, Lambda 1e60, accuracy:= 0.7509174311926606\n",
      "FN count = 5, Lambda 1e80, accuracy:= 0.7412844036697248\n",
      "FN count = 4, Lambda 1e100, accuracy:= 0.7330275229357799\n",
      "FN count = 3, Lambda 1e120, accuracy:= 0.7243119266055047\n",
      "FN count = 3, Lambda 1e140, accuracy:= 0.7160550458715595\n",
      "FN count = 3, Lambda 1e160, accuracy:= 0.7096330275229358\n",
      "FN count = 2, Lambda 1e180, accuracy:= 0.705045871559633\n",
      "FN count = 2, Lambda 1e200, accuracy:= 0.6995412844036697\n",
      "FN count = 1, Lambda 1e220, accuracy:= 0.6981651376146789\n",
      "FN count = 1, Lambda 1e240, accuracy:= 0.6944954128440366\n",
      "FN count = 1, Lambda 1e260, accuracy:= 0.6876146788990826\n",
      "FN count = 1, Lambda 1e280, accuracy:= 0.6788990825688073\n",
      "FN count = 1, Lambda 1e300, accuracy:= 0.6724770642201834\n",
      "Best lambda 1e0\n"
     ]
    },
    {
     "data": {
      "text/plain": "<Figure size 432x288 with 1 Axes>",
      "image/png": "[encoded data removed]"
     },
     "metadata": {
      "needs_background": "light"
     },
     "output_type": "display_data"
    },
    {
     "data": {
      "text/plain": "<Figure size 432x288 with 1 Axes>",
      "image/png": "[encoded data removed]"
     },
     "metadata": {
      "needs_background": "light"
     },
     "output_type": "display_data"
    },
    {
     "name": "stdout",
     "output_type": "stream",
     "text": [
      "Searching alpha...\n",
      "Alpha = 1e-16, accuracy = 0.9334862385321101\n",
      "Alpha = 1e-15, accuracy = 0.9334862385321101\n",
      "Alpha = 1e-14, accuracy = 0.9334862385321101\n",
      "Alpha = 1e-13, accuracy = 0.9334862385321101\n",
      "Alpha = 1e-12, accuracy = 0.9334862385321101\n",
      "Alpha = 1e-11, accuracy = 0.9330275229357798\n",
      "Alpha = 1e-10, accuracy = 0.9325688073394496\n",
      "Alpha = 1e-09, accuracy = 0.9307339449541285\n",
      "Alpha = 1e-08, accuracy = 0.9311926605504588\n",
      "Alpha = 1e-07, accuracy = 0.9293577981651375\n",
      "Best alpha = 1e-16, accuracy = 0.9334862385321101, n = 2\n",
      "Searching lambda...\n",
      "FN count = 24, Lambda 1e0, accuracy:= 0.9050458715596331\n",
      "FN count = 13, Lambda 1e20, accuracy:= 0.8555045871559634\n",
      "FN count = 8, Lambda 1e40, accuracy:= 0.8018348623853212\n",
      "FN count = 8, Lambda 1e60, accuracy:= 0.7844036697247706\n",
      "FN count = 7, Lambda 1e80, accuracy:= 0.7711009174311926\n",
      "FN count = 5, Lambda 1e100, accuracy:= 0.7669724770642202\n",
      "FN count = 4, Lambda 1e120, accuracy:= 0.7642201834862385\n",
      "FN count = 4, Lambda 1e140, accuracy:= 0.7605504587155963\n",
      "FN count = 3, Lambda 1e160, accuracy:= 0.7587155963302752\n",
      "FN count = 3, Lambda 1e180, accuracy:= 0.755045871559633\n",
      "FN count = 2, Lambda 1e200, accuracy:= 0.7522935779816514\n",
      "FN count = 2, Lambda 1e220, accuracy:= 0.7481651376146788\n",
      "FN count = 2, Lambda 1e240, accuracy:= 0.7454128440366973\n",
      "FN count = 2, Lambda 1e260, accuracy:= 0.7422018348623853\n",
      "FN count = 2, Lambda 1e280, accuracy:= 0.7394495412844037\n",
      "FN count = 2, Lambda 1e300, accuracy:= 0.7357798165137615\n",
      "Best lambda 1e0\n"
     ]
    },
    {
     "data": {
      "text/plain": "<Figure size 432x288 with 1 Axes>",
      "image/png": "[encoded data removed]"
     },
     "metadata": {
      "needs_background": "light"
     },
     "output_type": "display_data"
    },
    {
     "data": {
      "text/plain": "<Figure size 432x288 with 1 Axes>",
      "image/png": "[encoded data removed]"
     },
     "metadata": {
      "needs_background": "light"
     },
     "output_type": "display_data"
    },
    {
     "name": "stdout",
     "output_type": "stream",
     "text": [
      "Searching alpha...\n",
      "Alpha = 1e-16, accuracy = 0.8862385321100917\n",
      "Alpha = 1e-15, accuracy = 0.8853211009174311\n",
      "Alpha = 1e-14, accuracy = 0.8848623853211008\n",
      "Alpha = 1e-13, accuracy = 0.8848623853211008\n",
      "Alpha = 1e-12, accuracy = 0.8844036697247706\n",
      "Alpha = 1e-11, accuracy = 0.8876146788990824\n",
      "Alpha = 1e-10, accuracy = 0.8876146788990824\n",
      "Alpha = 1e-09, accuracy = 0.8853211009174311\n",
      "Alpha = 1e-08, accuracy = 0.8834862385321101\n",
      "Alpha = 1e-07, accuracy = 0.8825688073394495\n",
      "Best alpha = 1e-11, accuracy = 0.8876146788990824, n = 3\n",
      "Searching lambda...\n",
      "FN count = 26, Lambda 1e0, accuracy:= 0.8688073394495414\n",
      "FN count = 13, Lambda 1e20, accuracy:= 0.8068807339449542\n",
      "FN count = 12, Lambda 1e40, accuracy:= 0.7766055045871559\n",
      "FN count = 10, Lambda 1e60, accuracy:= 0.7633027522935779\n",
      "FN count = 8, Lambda 1e80, accuracy:= 0.7596330275229357\n",
      "FN count = 6, Lambda 1e100, accuracy:= 0.7518348623853212\n",
      "FN count = 6, Lambda 1e120, accuracy:= 0.748165137614679\n",
      "FN count = 6, Lambda 1e140, accuracy:= 0.7435779816513763\n",
      "FN count = 6, Lambda 1e160, accuracy:= 0.7394495412844035\n",
      "FN count = 6, Lambda 1e180, accuracy:= 0.7330275229357799\n",
      "FN count = 5, Lambda 1e200, accuracy:= 0.7302752293577981\n",
      "FN count = 5, Lambda 1e220, accuracy:= 0.7261467889908257\n",
      "FN count = 4, Lambda 1e240, accuracy:= 0.7247706422018348\n",
      "FN count = 4, Lambda 1e260, accuracy:= 0.7224770642201835\n",
      "FN count = 4, Lambda 1e280, accuracy:= 0.7197247706422019\n",
      "FN count = 4, Lambda 1e300, accuracy:= 0.7178899082568806\n",
      "Best lambda 1e0\n"
     ]
    },
    {
     "data": {
      "text/plain": "<Figure size 432x288 with 1 Axes>",
      "image/png": "[encoded data removed]"
     },
     "metadata": {
      "needs_background": "light"
     },
     "output_type": "display_data"
    },
    {
     "data": {
      "text/plain": "<Figure size 432x288 with 1 Axes>",
      "image/png": "[encoded data removed]"
     },
     "metadata": {
      "needs_background": "light"
     },
     "output_type": "display_data"
    }
   ],
   "source": [
    "def main():\n",
    "    for n in range(1, 4):\n",
    "        parts = np.array([read_part(n, i) for i in range(NUMBER_OF_PARTS)], dtype=object)\n",
    "\n",
    "        best_alpha, best_accuracy = find_best_alpha(parts)\n",
    "        print(\"Best alpha = {}, accuracy = {}, n = {}\".format(best_alpha, best_accuracy, n))\n",
    "\n",
    "        best_lambda, lambda_xs, accuracy_ys = find_best_lambda(parts, alpha=best_alpha)\n",
    "        print(\"Best lambda 1e{}\".format(int(log10(best_lambda))))\n",
    "\n",
    "        plot_roc_curve(parts.reshape(-1, parts.shape[-1]), best_alpha=best_alpha, best_lambda=best_lambda)\n",
    "        draw(xs=lambda_xs, ys=accuracy_ys, label='Accuracy', x_label='Lambda 10^x', y_label='Accuracy')\n",
    "\n",
    "\n",
    "if __name__ == '__main__':\n",
    "    main()"
   ],
   "metadata": {
    "collapsed": false,
    "pycharm": {
     "name": "#%%\n"
    }
   }
  }
 ],
 "metadata": {
  "kernelspec": {
   "display_name": "Python 3",
   "language": "python",
   "name": "python3"
  },
  "language_info": {
   "codemirror_mode": {
    "name": "ipython",
    "version": 2
   },
   "file_extension": ".py",
   "mimetype": "text/x-python",
   "name": "python",
   "nbconvert_exporter": "python",
   "pygments_lexer": "ipython2",
   "version": "2.7.6"
  }
 },
 "nbformat": 4,
 "nbformat_minor": 0
}