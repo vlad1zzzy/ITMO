{
 "cells": [
  {
   "cell_type": "markdown",
   "source": [
    "#### IMPORTS"
   ],
   "metadata": {
    "collapsed": false,
    "pycharm": {
     "name": "#%% md\n"
    }
   }
  },
  {
   "cell_type": "code",
   "execution_count": 405,
   "outputs": [],
   "source": [
    "import numpy as np\n",
    "import pandas as pd\n",
    "import matplotlib.pyplot as mtp\n",
    "from sklearn.preprocessing import OneHotEncoder, normalize\n",
    "from sklearn.model_selection import KFold, LeaveOneOut"
   ],
   "metadata": {
    "collapsed": false,
    "pycharm": {
     "name": "#%%\n"
    }
   }
  },
  {
   "cell_type": "markdown",
   "source": [
    "#### PARAMS"
   ],
   "metadata": {
    "collapsed": false,
    "pycharm": {
     "name": "#%% md\n"
    }
   }
  },
  {
   "cell_type": "code",
   "execution_count": 406,
   "outputs": [],
   "source": [
    "metrics = {\n",
    "    \"euclidean\": lambda p1, p2: np.sqrt(sum([pow(p1[i] - p2[i], 2) for i in range(len(p1))])),\n",
    "    \"manhattan\": lambda p1, p2: sum([abs(p1[i] - p2[i]) for i in range(len(p1))]),\n",
    "    \"chebyshev\": lambda p1, p2: max([abs(p1[i] - p2[i]) for i in range(len(p1))]),\n",
    "}\n",
    "\n",
    "kernels = {\n",
    "    \"uniform\": lambda x: 0.5,\n",
    "    \"triangular\": lambda x: 1 - abs(x),\n",
    "    \"epanechnikov\": lambda x: 0.75 * (1 - pow(x, 2)),\n",
    "    \"quartic\": lambda x: 15 / 16 * pow(1 - pow(x, 2), 2),\n",
    "}\n",
    "\n",
    "windows = {\n",
    "    'fixed': [0.1, 1, 2 , 3, 4],\n",
    "    # 'variable': [], processed in runtime\n",
    "}"
   ],
   "metadata": {
    "collapsed": false,
    "pycharm": {
     "name": "#%%\n"
    }
   }
  },
  {
   "cell_type": "markdown",
   "source": [
    "#### PARAMETER"
   ],
   "metadata": {
    "collapsed": false
   }
  },
  {
   "cell_type": "code",
   "execution_count": 407,
   "outputs": [],
   "source": [
    "parameter = 'class'"
   ],
   "metadata": {
    "collapsed": false,
    "pycharm": {
     "name": "#%%\n"
    }
   }
  },
  {
   "cell_type": "markdown",
   "source": [
    "#### DATA RAW"
   ],
   "metadata": {
    "collapsed": false
   }
  },
  {
   "cell_type": "code",
   "execution_count": 408,
   "outputs": [
    {
     "name": "stdout",
     "output_type": "stream",
     "text": [
      "     buying  maint  doors persons lug_boot safety  class\n",
      "350   vhigh    low      2    more      big   high    acc\n",
      "1140    med    med      4       2      big    low  unacc\n",
      "910     med  vhigh      3    more    small    med  unacc\n",
      "1247    med    low      4       2      med   high  unacc\n",
      "833    high    low      4    more      med   high    acc\n",
      "1632    low    low      2       4      med    low  unacc\n",
      "1403    low  vhigh  5more    more      big   high    acc\n",
      "524    high  vhigh  5more       4    small   high  unacc\n",
      "1710    low    low  5more       4    small    low  unacc\n",
      "317   vhigh    med  5more    more    small   high    acc\n",
      "42    vhigh  vhigh      3       4      big    low  unacc\n",
      "1682    low    low      4       2      big   high  unacc\n",
      "1485    low   high  5more       2    small    low  unacc\n",
      "371   vhigh    low      3    more    small   high    acc\n",
      "214   vhigh   high  5more    more      big    med  unacc\n",
      "685    high    med      3       4    small    med  unacc\n",
      "1255    med    low      4       4      med    med   good\n",
      "1723    low    low  5more    more      med    med   good\n",
      "1006    med   high      3       2      big    med  unacc\n",
      "544    high   high      2       2      med    med  unacc\n",
      "925     med  vhigh      4       2      big    med  unacc\n",
      "1546    low    med      3       2      big    med  unacc\n",
      "1100    med    med      2    more    small   high  unacc\n",
      "206   vhigh   high  5more       4      big   high  unacc\n",
      "1197    med    low      2       4    small    low  unacc\n",
      "1668    low    low      3    more      med    low  unacc\n",
      "565    high   high      2    more      big    med    acc\n",
      "798    high    low      3       4      big    low  unacc\n",
      "500    high  vhigh      4       4      med   high  unacc\n",
      "962     med  vhigh  5more       4      big   high    acc\n",
      "708    high    med      4       2      big    low  unacc\n",
      "1425    low   high      2    more      med    low  unacc\n",
      "1087    med    med      2       2      big    med  unacc\n",
      "929     med  vhigh      4       4    small   high    acc\n",
      "318   vhigh    med  5more    more      med    low  unacc\n",
      "490    high  vhigh      4       2      med    med  unacc\n",
      "1497    low   high  5more       4      med    low  unacc\n",
      "1164    med    med  5more       2      med    low  unacc\n",
      "149   vhigh   high      3       4      med   high  unacc\n",
      "890     med  vhigh      2    more      big   high    acc\n",
      "1250    med    low      4       2      big   high  unacc\n",
      "1542    low    med      3       2      med    low  unacc\n",
      "1206    med    low      2    more    small    low  unacc\n",
      "1703    low    low  5more       2    small   high  unacc\n",
      "172   vhigh   high      4       4    small    med  unacc\n",
      "619    high   high      4    more      big    med    acc\n",
      "866     med  vhigh      2       2    small   high  unacc\n",
      "1286    med    low  5more       4      big   high  vgood\n",
      "1669    low    low      3    more      med    med   good\n",
      "341   vhigh    low      2       4      big   high    acc\n"
     ]
    }
   ],
   "source": [
    "# data_raw = pd.read_csv('cars.csv')[['lug_boot', 'safety', 'class']].sample(frac=1)\n",
    "data_raw = pd.read_csv('data/cars.csv').sample(frac=1)[:50]\n",
    "print(data_raw)\n",
    "\n",
    "data_raw_X = data_raw.drop([parameter], axis=1)\n",
    "data_raw_Y = data_raw[parameter]"
   ],
   "metadata": {
    "collapsed": false,
    "pycharm": {
     "name": "#%%\n"
    }
   }
  },
  {
   "cell_type": "markdown",
   "source": [
    "#### DATA PROCESSED\n"
   ],
   "metadata": {
    "collapsed": false
   }
  },
  {
   "cell_type": "code",
   "execution_count": 409,
   "outputs": [
    {
     "name": "stdout",
     "output_type": "stream",
     "text": [
      "      buying  maint  doors  persons  lug_boot  safety\n",
      "350        0      0      0        0         0       0\n",
      "1140       1      1      1        1         0       1\n",
      "910        1      2      2        0         1       2\n",
      "1247       1      0      1        1         2       0\n",
      "833        2      0      1        0         2       0\n",
      "1632       3      0      0        2         2       1\n",
      "1403       3      2      3        0         0       0\n",
      "524        2      2      3        2         1       0\n",
      "1710       3      0      3        2         1       1\n",
      "317        0      1      3        0         1       0\n",
      "42         0      2      2        2         0       1\n",
      "1682       3      0      1        1         0       0\n",
      "1485       3      3      3        1         1       1\n",
      "371        0      0      2        0         1       0\n",
      "214        0      3      3        0         0       2\n",
      "685        2      1      2        2         1       2\n",
      "1255       1      0      1        2         2       2\n",
      "1723       3      0      3        0         2       2\n",
      "1006       1      3      2        1         0       2\n",
      "544        2      3      0        1         2       2\n",
      "925        1      2      1        1         0       2\n",
      "1546       3      1      2        1         0       2\n",
      "1100       1      1      0        0         1       0\n",
      "206        0      3      3        2         0       0\n",
      "1197       1      0      0        2         1       1\n",
      "1668       3      0      2        0         2       1\n",
      "565        2      3      0        0         0       2\n",
      "798        2      0      2        2         0       1\n",
      "500        2      2      1        2         2       0\n",
      "962        1      2      3        2         0       0\n",
      "708        2      1      1        1         0       1\n",
      "1425       3      3      0        0         2       1\n",
      "1087       1      1      0        1         0       2\n",
      "929        1      2      1        2         1       0\n",
      "318        0      1      3        0         2       1\n",
      "490        2      2      1        1         2       2\n",
      "1497       3      3      3        2         2       1\n",
      "1164       1      1      3        1         2       1\n",
      "149        0      3      2        2         2       0\n",
      "890        1      2      0        0         0       0\n",
      "1250       1      0      1        1         0       0\n",
      "1542       3      1      2        1         2       1\n",
      "1206       1      0      0        0         1       1\n",
      "1703       3      0      3        1         1       0\n",
      "172        0      3      1        2         1       2\n",
      "619        2      3      1        0         0       2\n",
      "866        1      2      0        1         1       0\n",
      "1286       1      0      3        2         0       0\n",
      "1669       3      0      2        0         2       2\n",
      "341        0      0      0        2         0       0\n",
      "            buying     maint     doors   persons  lug_boot    safety\n",
      "buying    1.000000 -0.107439  0.113395 -0.067279  0.286346  0.191463\n",
      "maint    -0.107439  1.000000  0.073763  0.041442 -0.097092  0.236561\n",
      "doors     0.113395  0.073763  1.000000  0.106837  0.045054 -0.048787\n",
      "persons  -0.067279  0.041442  0.106837  1.000000 -0.028711 -0.116791\n",
      "lug_boot  0.286346 -0.097092  0.045054 -0.028711  1.000000  0.074106\n",
      "safety    0.191463  0.236561 -0.048787 -0.116791  0.074106  1.000000\n"
     ]
    }
   ],
   "source": [
    "data_processed_X = data_raw_X.apply(lambda x: pd.factorize(x)[0])\n",
    "print(data_processed_X)\n",
    "print(data_processed_X.corr())\n",
    "\n",
    "one_hot = OneHotEncoder(sparse=False)\n",
    "data_processed_Y = one_hot.fit_transform(data_raw_Y.values.reshape(-1, 1))\n",
    "# print(data_processed_Y)"
   ],
   "metadata": {
    "collapsed": false,
    "pycharm": {
     "name": "#%%\n"
    }
   }
  },
  {
   "cell_type": "markdown",
   "source": [
    "#### NORMALIZE"
   ],
   "metadata": {
    "collapsed": false,
    "pycharm": {
     "name": "#%% md\n"
    }
   }
  },
  {
   "cell_type": "code",
   "execution_count": 410,
   "outputs": [],
   "source": [
    "data_normalized_X = normalize(data_processed_X)\n",
    "# print(data_normalized_X)"
   ],
   "metadata": {
    "collapsed": false,
    "pycharm": {
     "name": "#%%\n"
    }
   }
  },
  {
   "cell_type": "markdown",
   "source": [
    "#### PROCESS WINDOW"
   ],
   "metadata": {
    "collapsed": false
   }
  },
  {
   "cell_type": "code",
   "execution_count": 411,
   "outputs": [
    {
     "name": "stdout",
     "output_type": "stream",
     "text": [
      "1.4142135623730951 7.0710678118654755 0.2\n"
     ]
    }
   ],
   "source": [
    "rD = np.max([metrics.get('euclidean')(a, b) for a in data_normalized_X for b in data_normalized_X])\n",
    "sqrtD = np.sqrt(len(data_normalized_X))\n",
    "step = rD / sqrtD\n",
    "print(rD, sqrtD, step)\n",
    "\n",
    "windows['variable'] = [i for i in np.arange(step, rD, step)]"
   ],
   "metadata": {
    "collapsed": false,
    "pycharm": {
     "name": "#%%\n"
    }
   }
  },
  {
   "cell_type": "markdown",
   "source": [
    "#### CLASSES"
   ],
   "metadata": {
    "collapsed": false,
    "pycharm": {
     "name": "#%% md\n"
    }
   }
  },
  {
   "cell_type": "code",
   "execution_count": 412,
   "outputs": [
    {
     "name": "stdout",
     "output_type": "stream",
     "text": [
      "4\n"
     ]
    }
   ],
   "source": [
    "classes = len(np.unique(data_raw[parameter].values))\n",
    "print(classes)"
   ],
   "metadata": {
    "collapsed": false,
    "pycharm": {
     "name": "#%%\n"
    }
   }
  },
  {
   "cell_type": "markdown",
   "source": [
    "#### PREPARE DATA"
   ],
   "metadata": {
    "collapsed": false,
    "pycharm": {
     "name": "#%% md\n"
    }
   }
  },
  {
   "cell_type": "code",
   "execution_count": 413,
   "outputs": [
    {
     "name": "stderr",
     "output_type": "stream",
     "text": [
      "C:\\Temp\\ipykernel_1868\\3400568675.py:2: VisibleDeprecationWarning: Creating an ndarray from ragged nested sequences (which is a list-or-tuple of lists-or-tuples-or ndarrays with different lengths or shapes) is deprecated. If you meant to do this, you must specify 'dtype=object' when creating the ndarray.\n",
      "  data = np.array([[data_normalized_X[i], data_processed_Y[i]] for i in range(data_length)])\n"
     ]
    }
   ],
   "source": [
    "data_length = len(data_raw)\n",
    "data = np.array([[data_normalized_X[i], data_processed_Y[i]] for i in range(data_length)])"
   ],
   "metadata": {
    "collapsed": false,
    "pycharm": {
     "name": "#%%\n"
    }
   }
  },
  {
   "cell_type": "markdown",
   "source": [
    "#### REGRESSION"
   ],
   "metadata": {
    "collapsed": false
   }
  },
  {
   "cell_type": "code",
   "execution_count": 414,
   "outputs": [],
   "source": [
    "def regression(x_test,\n",
    "               data_train,\n",
    "               dist_fun=metrics.get('euclidean'),\n",
    "               kernel_fun=kernels.get('uniform'),\n",
    "               w=windows.get('fixed')[0]):\n",
    "    up, down = 0, 0\n",
    "    for (xi, yi) in data_train:\n",
    "        k = kernel_fun(dist_fun(xi, x_test) / w)\n",
    "        up += k * yi\n",
    "        down += k\n",
    "    return up / down\n",
    "\n",
    "\n",
    "def get_component(arr):\n",
    "    max_element = max(arr)\n",
    "    return list(map(lambda x: 1 if x == max_element else 0, arr))"
   ],
   "metadata": {
    "collapsed": false,
    "pycharm": {
     "name": "#%%\n"
    }
   }
  },
  {
   "cell_type": "markdown",
   "source": [
    "#### TRUE FALSE NEGATIVE POSITIVE"
   ],
   "metadata": {
    "collapsed": false,
    "pycharm": {
     "name": "#%% md\n"
    }
   }
  },
  {
   "cell_type": "code",
   "execution_count": 415,
   "outputs": [],
   "source": [
    "def tfnp(must, trained):\n",
    "    tp, tn, fp, fn = [0] * classes, [0] * classes, [0] * classes, [0] * classes\n",
    "    for i in range(len(trained)):\n",
    "        for j in range(classes):\n",
    "            if trained[i][j] == 1 and must[i][j] == 1:\n",
    "                tp[j] += 1\n",
    "            elif trained[i][j] == 1 and must[i][j] == 0:\n",
    "                fp[j] += 1\n",
    "            elif trained[i][j] == 0 and must[i][j] == 1:\n",
    "                fn[j] += 1\n",
    "            else:\n",
    "                tn[j] += 1\n",
    "    return tp, tn, fp, fn"
   ],
   "metadata": {
    "collapsed": false,
    "pycharm": {
     "name": "#%%\n"
    }
   }
  },
  {
   "cell_type": "markdown",
   "source": [
    "#### F1 SCORE"
   ],
   "metadata": {
    "collapsed": false
   }
  },
  {
   "cell_type": "code",
   "execution_count": 416,
   "outputs": [],
   "source": [
    "def precision(tp, fp):\n",
    "    return get_prec_or_rec(tp, fp)\n",
    "\n",
    "\n",
    "def recall(tp, fn):\n",
    "    return get_prec_or_rec(tp, fn)\n",
    "\n",
    "\n",
    "def get_prec_or_rec(a, b):\n",
    "    if a + b == 0:\n",
    "        return 0\n",
    "    return a / (a + b)\n",
    "\n",
    "\n",
    "def f1_score(prec, rec):\n",
    "    if prec + rec == 0:\n",
    "        return 0\n",
    "    return 2 * (prec * rec) / (prec + rec)"
   ],
   "metadata": {
    "collapsed": false,
    "pycharm": {
     "name": "#%%\n"
    }
   }
  },
  {
   "cell_type": "markdown",
   "source": [
    "#### FUNCTION WITH HYPER PARAMETERS"
   ],
   "metadata": {
    "collapsed": false
   }
  },
  {
   "cell_type": "code",
   "execution_count": 417,
   "outputs": [],
   "source": [
    "def get_score(train, test, get_dist, get_kernel, w):\n",
    "    res_expected = []\n",
    "    res = []\n",
    "    for ((train_x, train_y), (test_x, test_y)) in zip(train, test):\n",
    "        test_y_predicted = regression(train_x, test, get_dist, get_kernel, w)\n",
    "        res_expected.append(test_y)\n",
    "        res.append(get_component(test_y_predicted))\n",
    "\n",
    "    tp, tn, fp, fn = tfnp(res_expected, res)\n",
    "    return np.average([f1_score(precision(tp[i], fp[i]), recall(tp[i], fn[i])) for i in range(classes)])"
   ],
   "metadata": {
    "collapsed": false,
    "pycharm": {
     "name": "#%%\n"
    }
   }
  },
  {
   "cell_type": "markdown",
   "source": [
    "#### RESULTS"
   ],
   "metadata": {
    "collapsed": false
   }
  },
  {
   "cell_type": "code",
   "execution_count": 418,
   "outputs": [
    {
     "name": "stdout",
     "output_type": "stream",
     "text": [
      "||||||||||||||||||||||||||||||||||"
     ]
    },
    {
     "name": "stderr",
     "output_type": "stream",
     "text": [
      "C:\\Temp\\ipykernel_1868\\1646301138.py:11: RuntimeWarning: invalid value encountered in true_divide\n",
      "  return up / down\n"
     ]
    },
    {
     "name": "stdout",
     "output_type": "stream",
     "text": [
      "||||||||||||||||||||||||||||||||||||||||||||||||||||||||||||||||||||||||||||||||||||||||||||||||||||||||||||||\n",
      " 0.25 ['euclidean', 'uniform', 'fixed', 0.1]\n"
     ]
    }
   ],
   "source": [
    "kf = KFold(n_splits=3)\n",
    "l = LeaveOneOut()\n",
    "\n",
    "best_score = 0\n",
    "best_params = []\n",
    "\n",
    "for metric_key in metrics.keys():\n",
    "    for kernel_key in kernels.keys():\n",
    "        for window_key in windows.keys():\n",
    "            for window in windows.get(window_key):\n",
    "                print('|', end='')\n",
    "                scores = []\n",
    "                for train_index, test_index in l.split(data):\n",
    "                    train_data, test_data = data[train_index], data[test_index]\n",
    "                    score = get_score(\n",
    "                        train_data,\n",
    "                        test_data,\n",
    "                        metrics.get(metric_key),\n",
    "                        kernels.get(kernel_key),\n",
    "                        window,\n",
    "                    )\n",
    "                    scores.append(score)\n",
    "                average_score = np.average(scores)\n",
    "                if average_score > best_score:\n",
    "                    best_score = average_score\n",
    "                    best_params = [metric_key, kernel_key, window_key, window]\n",
    "print('\\n', best_score, best_params)"
   ],
   "metadata": {
    "collapsed": false,
    "pycharm": {
     "name": "#%%\n"
    }
   }
  },
  {
   "cell_type": "markdown",
   "source": [
    "#### PLOT BUILD"
   ],
   "metadata": {
    "collapsed": false
   }
  },
  {
   "cell_type": "code",
   "execution_count": 419,
   "outputs": [
    {
     "data": {
      "text/plain": "<Figure size 432x288 with 1 Axes>",
      "image/png": "[encoded data removed]"
     },
     "metadata": {
      "needs_background": "light"
     },
     "output_type": "display_data"
    }
   ],
   "source": [
    "points_x, points_y = [], []\n",
    "\n",
    "for window in windows.get(best_params[2]):\n",
    "    scores = []\n",
    "    for train_index, test_index in kf.split(data):\n",
    "        train_data, test_data = data[train_index], data[test_index]\n",
    "        score = get_score(\n",
    "            train_data,\n",
    "            test_data,\n",
    "            metrics.get(best_params[0]),\n",
    "            kernels.get(best_params[1]),\n",
    "            window,\n",
    "        )\n",
    "        scores.append(score)\n",
    "    average_score = np.average(scores)\n",
    "\n",
    "    points_x.append(window)\n",
    "    points_y.append(average_score)\n",
    "\n",
    "mtp.xlabel(\"window\")\n",
    "mtp.ylabel(\"score\")\n",
    "mtp.plot(points_x, points_y)\n",
    "mtp.show()"
   ],
   "metadata": {
    "collapsed": false,
    "pycharm": {
     "name": "#%%\n"
    }
   }
  }
 ],
 "metadata": {
  "kernelspec": {
   "display_name": "Python 3",
   "language": "python",
   "name": "python3"
  },
  "language_info": {
   "codemirror_mode": {
    "name": "ipython",
    "version": 2
   },
   "file_extension": ".py",
   "mimetype": "text/x-python",
   "name": "python",
   "nbconvert_exporter": "python",
   "pygments_lexer": "ipython2",
   "version": "2.7.6"
  }
 },
 "nbformat": 4,
 "nbformat_minor": 0
}