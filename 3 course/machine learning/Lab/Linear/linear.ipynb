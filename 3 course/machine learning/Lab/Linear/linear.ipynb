{
 "cells": [
  {
   "cell_type": "markdown",
   "metadata": {
    "collapsed": true,
    "pycharm": {
     "name": "#%% md\n"
    }
   },
   "source": [
    "#### IMPORTS"
   ]
  },
  {
   "cell_type": "code",
   "execution_count": 780,
   "outputs": [],
   "source": [
    "from typing import Union, Tuple\n",
    "import numpy as np\n",
    "import random\n",
    "import matplotlib.pyplot as mtp\n",
    "from sklearn.metrics import mean_squared_error\n",
    "from sklearn.preprocessing import normalize\n",
    "\n",
    "from hyperopt import hp, fmin, Trials, STATUS_OK"
   ],
   "metadata": {
    "collapsed": false,
    "pycharm": {
     "name": "#%%\n"
    }
   }
  },
  {
   "cell_type": "markdown",
   "source": [
    "#### PARAMS"
   ],
   "metadata": {
    "collapsed": false
   }
  },
  {
   "cell_type": "code",
   "execution_count": 781,
   "outputs": [],
   "source": [
    "FILE_NAME = 3\n",
    "\n",
    "spaceMNK = {\n",
    "    'tau': hp.loguniform('tau', -9, 0)\n",
    "}\n",
    "\n",
    "spaceSGD = {\n",
    "    'tau': hp.loguniform('tau', -9, 0),\n",
    "    'mu': hp.loguniform('mu', -1, 0),\n",
    "    'damp': hp.loguniform('damp', -1, 0),\n",
    "    'l': hp.loguniform('l', -2, 0),\n",
    "}"
   ],
   "metadata": {
    "collapsed": false,
    "pycharm": {
     "name": "#%%\n"
    }
   }
  },
  {
   "cell_type": "markdown",
   "source": [
    "#### DATA"
   ],
   "metadata": {
    "collapsed": false
   }
  },
  {
   "cell_type": "code",
   "execution_count": 782,
   "outputs": [],
   "source": [
    "def get_data(file_name: Union[int, str]) -> (\n",
    "        float,\n",
    "        Tuple[int, np.ndarray, np.ndarray],\n",
    "        Tuple[int, np.ndarray, np.ndarray]\n",
    "):\n",
    "    with open(\"data/%s.txt\" % str(file_name), \"r\") as reader:\n",
    "        def read_matrix():\n",
    "            size = int(next(reader))\n",
    "            matrix = normalize(np.array([[float(num) for num in next(reader).split()] for _ in range(size)]))\n",
    "            x, y = matrix[:, :-1], matrix[:, -1]\n",
    "            return size, x, y\n",
    "\n",
    "        return int(next(reader)), read_matrix(), read_matrix()"
   ],
   "metadata": {
    "collapsed": false,
    "pycharm": {
     "name": "#%%\n"
    }
   }
  },
  {
   "cell_type": "markdown",
   "source": [
    "#### METRICS"
   ],
   "metadata": {
    "collapsed": false
   }
  },
  {
   "cell_type": "code",
   "execution_count": 783,
   "outputs": [],
   "source": [
    "def get_smape(y_trained: np.ndarray, y_test: np.ndarray) -> float:\n",
    "    return sum([np.abs(a - b) / (np.abs(a) + np.abs(b)) for (a, b) in zip(y_trained, y_test)]) / len(y_trained)\n",
    "\n",
    "\n",
    "def get_mse(y_trained: np.ndarray, y_test: np.ndarray) -> float:\n",
    "    return mean_squared_error(y_test, y_trained)\n",
    "\n",
    "\n",
    "error_1 = {\n",
    "    \"smape\": lambda predict, real: np.abs(predict - real) / (np.abs(predict) + np.abs(real)),\n",
    "    \"mse\": lambda predict, real: (predict - real) ** 2,\n",
    "}\n",
    "\n",
    "\n",
    "def get_nrmse(y_trained: np.ndarray, y_test: np.ndarray) -> float:\n",
    "    return np.sqrt(get_mse(y_test, y_trained)) / (np.max(y_test) - np.min(y_test))\n",
    "\n",
    "\n",
    "def produce(x: np.ndarray, w: np.ndarray) -> np.ndarray:\n",
    "    return np.array([vec @ w for vec in x])\n",
    "\n",
    "\n",
    "def get_errors(x_test: np.ndarray, y_test: np.ndarray, w: np.ndarray):\n",
    "    y_trained = produce(x_test, w)\n",
    "    smape = get_smape(y_trained, y_test)\n",
    "    nrmse = get_nrmse(y_trained, y_test)\n",
    "    mse = get_mse(y_trained, y_test)\n",
    "    return smape, mse, nrmse\n"
   ],
   "metadata": {
    "collapsed": false,
    "pycharm": {
     "name": "#%%\n"
    }
   }
  },
  {
   "cell_type": "markdown",
   "source": [
    "#### MNK"
   ],
   "metadata": {
    "collapsed": false
   }
  },
  {
   "cell_type": "code",
   "execution_count": 784,
   "outputs": [],
   "source": [
    "def mnk(x: np.ndarray, y: np.ndarray, tau: float) -> np.ndarray:\n",
    "    _x_T = x.T\n",
    "    _E = np.identity(_x_T.shape[0])\n",
    "    return np.linalg.inv(_x_T @ x + tau * _E) @ _x_T @ y\n",
    "\n",
    "\n",
    "def solve_mnk(x_train: np.ndarray, y_train: np.ndarray,\n",
    "              x_test: np.ndarray, y_test: np.ndarray,\n",
    "              tau: float) -> (float, float, float):\n",
    "    w = mnk(x_train, y_train, tau)\n",
    "    return get_errors(x_test, y_test, w)"
   ],
   "metadata": {
    "collapsed": false,
    "pycharm": {
     "name": "#%%\n"
    }
   }
  },
  {
   "cell_type": "markdown",
   "source": [
    "#### GRADIENT DESCENT"
   ],
   "metadata": {
    "collapsed": false
   }
  },
  {
   "cell_type": "code",
   "execution_count": 785,
   "outputs": [],
   "source": [
    "def gradient_descent(\n",
    "        error_minimization: str,\n",
    "        xs: np.ndarray,\n",
    "        ys: np.ndarray,\n",
    "        tau: float,\n",
    "        mu: float,\n",
    "        damp: float,\n",
    "        l: float,\n",
    "        draw_q: bool = False\n",
    ") -> (np.ndarray, float):\n",
    "    n = len(xs)\n",
    "    bound = 1 / (2 * n)\n",
    "    w = np.array([random.uniform(-bound, bound) for _ in range(len(xs[0]))])\n",
    "    q = get_mse(produce(xs, w), ys)\n",
    "    random.seed(42)\n",
    "    q_s = [q]\n",
    "    for k in range(1, 2000):\n",
    "        mu *= damp\n",
    "        i = random.randint(0, n - 1)\n",
    "        grad = gradient[error_minimization](w, xs[i], ys[i])\n",
    "        w -= mu * (grad + tau * w)\n",
    "\n",
    "        q_prev = q\n",
    "        q = (1 - l) * q + l * error_1[error_minimization](xs[i] @ w, ys[i])\n",
    "        q_s.append(q)\n",
    "        if np.abs(q_prev - q) < 1e-7:\n",
    "            break\n",
    "\n",
    "    if draw_q:\n",
    "        mtp.plot(q_s, label='q')\n",
    "        mtp.legend()\n",
    "        mtp.show()\n",
    "    return w\n",
    "\n",
    "\n",
    "def gradient_smape(w: np.ndarray, x: float, y: float) -> np.ndarray:\n",
    "    y_predicted = w @ x\n",
    "    grad = - 2 * x * y / (y_predicted + y) ** 2\n",
    "    if 0 > y > y_predicted or 0 < y < y_predicted:\n",
    "        grad = -grad\n",
    "    return grad\n",
    "\n",
    "\n",
    "gradient = {\n",
    "    \"smape\": gradient_smape,\n",
    "    \"mse\": lambda w, x, y: 2 * (w @ x - y) * x\n",
    "}\n",
    "\n",
    "\n",
    "def solve_gradient_descent(\n",
    "        error_minimization: str,\n",
    "        x_train: np.ndarray, y_train: np.ndarray,\n",
    "        x_test: np.ndarray, y_test: np.ndarray,\n",
    "        tau: float, mu: float, damp: float, l: float, draw_q: bool = False\n",
    "):\n",
    "    w = gradient_descent(error_minimization, x_train, y_train, tau=tau, mu=mu, damp=damp, l=l, draw_q=draw_q)\n",
    "    return get_errors(x_test, y_test, w)"
   ],
   "metadata": {
    "collapsed": false,
    "pycharm": {
     "name": "#%%\n"
    }
   }
  },
  {
   "cell_type": "markdown",
   "source": [
    "#### DRAW"
   ],
   "metadata": {
    "collapsed": false
   }
  },
  {
   "cell_type": "code",
   "execution_count": 786,
   "outputs": [],
   "source": [
    "def draw_line(x: np.ndarray, y: np.ndarray, xlabel: str, ylabel: str, label: str = ''):\n",
    "    mtp.plot(x, y, label=label)\n",
    "    mtp.xlabel(xlabel)\n",
    "    mtp.ylabel(ylabel)\n",
    "    mtp.legend()\n",
    "    mtp.show()\n"
   ],
   "metadata": {
    "collapsed": false,
    "pycharm": {
     "name": "#%%\n"
    }
   }
  },
  {
   "cell_type": "markdown",
   "source": [
    "#### SMAPE and MSE for MNK"
   ],
   "metadata": {
    "collapsed": false
   }
  },
  {
   "cell_type": "code",
   "execution_count": 787,
   "outputs": [
    {
     "data": {
      "text/plain": "<Figure size 432x288 with 1 Axes>",
      "image/png": "[encoded data removed]"
     },
     "metadata": {
      "needs_background": "light"
     },
     "output_type": "display_data"
    },
    {
     "data": {
      "text/plain": "<Figure size 432x288 with 1 Axes>",
      "image/png": "[encoded data removed]"
     },
     "metadata": {
      "needs_background": "light"
     },
     "output_type": "display_data"
    }
   ],
   "source": [
    "def draw_mnk():\n",
    "    m, train_data, test_data = get_data(FILE_NAME)\n",
    "    n_train, x_train, y_train = train_data\n",
    "    n_test, x_test, y_test = test_data\n",
    "\n",
    "    theta_s, smape_s, mse_s = [], [], []\n",
    "    for tau in np.arange(1e-9, 1e-2, 1e-4):\n",
    "        smape, mse, _ = solve_mnk(x_train, y_train, x_test, y_test, tau=tau)\n",
    "        theta_s.append(tau)\n",
    "        smape_s.append(smape)\n",
    "        mse_s.append(mse)\n",
    "    draw_line(theta_s, smape_s, xlabel='tau', ylabel='smape', label='smape')\n",
    "    draw_line(theta_s, mse_s, xlabel='tau', ylabel='mse', label='mse')\n",
    "\n",
    "\n",
    "draw_mnk()"
   ],
   "metadata": {
    "collapsed": false,
    "pycharm": {
     "name": "#%%\n"
    }
   }
  },
  {
   "cell_type": "markdown",
   "source": [
    "#### MAIN"
   ],
   "metadata": {
    "collapsed": false
   }
  },
  {
   "cell_type": "code",
   "execution_count": 788,
   "outputs": [
    {
     "name": "stderr",
     "output_type": "stream",
     "text": [
      "TPE is being used as the default algorithm.\n"
     ]
    },
    {
     "name": "stdout",
     "output_type": "stream",
     "text": [
      "100%|██████████| 150/150 [00:00<00:00, 270.51trial/s, best loss: 6.800868407626847e-05]"
     ]
    },
    {
     "name": "stderr",
     "output_type": "stream",
     "text": [
      "TPE is being used as the default algorithm.\n"
     ]
    },
    {
     "name": "stdout",
     "output_type": "stream",
     "text": [
      "\n",
      "BEST MNK SMAPE: {'tau': 0.00016182305828894974}\n",
      "100%|██████████| 150/150 [00:00<00:00, 287.99trial/s, best loss: 7.562659358382597e-05]"
     ]
    },
    {
     "name": "stderr",
     "output_type": "stream",
     "text": [
      "TPE is being used as the default algorithm.\n"
     ]
    },
    {
     "name": "stdout",
     "output_type": "stream",
     "text": [
      "\n",
      "BEST MNK NRMSE: {'tau': 0.00017889559505133632}\n",
      "100%|██████████| 150/150 [00:06<00:00, 22.54trial/s, best loss: 5.08816243652378e-05] \n",
      "BEST GRAD SMAPE: {'damp': 0.8952221830595559, 'l': 0.7969338156231821, 'mu': 0.7570451580011367, 'tau': 0.005867496196363717}\n"
     ]
    },
    {
     "data": {
      "text/plain": "<Figure size 432x288 with 1 Axes>",
      "image/png": "[encoded data removed]"
     },
     "metadata": {
      "needs_background": "light"
     },
     "output_type": "display_data"
    },
    {
     "name": "stderr",
     "output_type": "stream",
     "text": [
      "TPE is being used as the default algorithm.\n"
     ]
    },
    {
     "name": "stdout",
     "output_type": "stream",
     "text": [
      "100%|██████████| 150/150 [00:04<00:00, 33.64trial/s, best loss: 0.0018705953822797437]\n",
      "BEST GRAD NRMSE: {'damp': 0.9990540181989825, 'l': 0.2832630894591356, 'mu': 0.8272509951567865, 'tau': 0.00012366331111097076}\n"
     ]
    },
    {
     "data": {
      "text/plain": "<Figure size 432x288 with 1 Axes>",
      "image/png": "[encoded data removed]"
     },
     "metadata": {
      "needs_background": "light"
     },
     "output_type": "display_data"
    }
   ],
   "source": [
    "def main():\n",
    "    m, train_data, test_data = get_data(FILE_NAME)\n",
    "    n_train, x_train, y_train = train_data\n",
    "    n_test, x_test, y_test = test_data\n",
    "\n",
    "    def best_mnk(index):\n",
    "        def solve(hyper_params):\n",
    "            errors = solve_mnk(x_train, y_train, x_test, y_test, **hyper_params)\n",
    "            return {'loss': errors[index], 'status': STATUS_OK}\n",
    "\n",
    "        return solve\n",
    "\n",
    "    def best_grad(error_minimization, index):\n",
    "        def solve(hyper_params):\n",
    "            errors = solve_gradient_descent(error_minimization, x_train, y_train, x_test, y_test, **hyper_params)\n",
    "            return {'loss': errors[index], 'status': STATUS_OK}\n",
    "\n",
    "        return solve\n",
    "\n",
    "    trials_mnk_smape = Trials()\n",
    "    print(\"BEST MNK SMAPE:\", fmin(fn=best_mnk(0), space=spaceMNK, max_evals=150, trials=trials_mnk_smape))\n",
    "\n",
    "    trials_mnk_nrmse = Trials()\n",
    "    print(\"BEST MNK NRMSE:\", fmin(fn=best_mnk(2), space=spaceMNK, max_evals=150, trials=trials_mnk_nrmse))\n",
    "\n",
    "    trials_grad_smape = Trials()\n",
    "    best_smape = fmin(fn=best_grad(\"smape\", 0), space=spaceSGD, max_evals=150, trials=trials_grad_smape)\n",
    "    print(\"BEST GRAD SMAPE:\", best_smape)\n",
    "    solve_gradient_descent(\"smape\", x_train, y_train, x_test, y_test,\n",
    "                           tau=best_smape[\"tau\"],\n",
    "                           mu=best_smape[\"mu\"],\n",
    "                           damp=best_smape[\"damp\"],\n",
    "                           l=best_smape[\"l\"],\n",
    "                           draw_q=True\n",
    "                           )\n",
    "\n",
    "    trials_grad_nrmse = Trials()\n",
    "    best_nrmse = fmin(fn=best_grad(\"mse\", 2), space=spaceSGD, max_evals=150, trials=trials_grad_nrmse)\n",
    "    print(\"BEST GRAD NRMSE:\", best_nrmse)\n",
    "    solve_gradient_descent(\"mse\", x_train, y_train, x_test, y_test,\n",
    "                           tau=best_nrmse[\"tau\"],\n",
    "                           mu=best_nrmse[\"mu\"],\n",
    "                           damp=best_nrmse[\"damp\"],\n",
    "                           l=best_nrmse[\"l\"],\n",
    "                           draw_q=True\n",
    "                           )\n",
    "\n",
    "\n",
    "main()\n"
   ],
   "metadata": {
    "collapsed": false,
    "pycharm": {
     "name": "#%%\n"
    }
   }
  }
 ],
 "metadata": {
  "kernelspec": {
   "display_name": "Python 3",
   "language": "python",
   "name": "python3"
  },
  "language_info": {
   "codemirror_mode": {
    "name": "ipython",
    "version": 2
   },
   "file_extension": ".py",
   "mimetype": "text/x-python",
   "name": "python",
   "nbconvert_exporter": "python",
   "pygments_lexer": "ipython2",
   "version": "2.7.6"
  }
 },
 "nbformat": 4,
 "nbformat_minor": 0
}